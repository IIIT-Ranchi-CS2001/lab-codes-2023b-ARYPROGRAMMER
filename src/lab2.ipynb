{
 "cells": [
  {
   "cell_type": "code",
   "execution_count": 4,
   "id": "744317eb-f190-4ae8-8be7-d7b2f01bc356",
   "metadata": {},
   "outputs": [
    {
     "name": "stdin",
     "output_type": "stream",
     "text": [
      "FIRST NUM :  99\n",
      "SECOND NUM :  -100\n"
     ]
    }
   ],
   "source": [
    "user1 = float(input(\"FIRST NUM : \"))\n",
    "user2 = float(input(\"SECOND NUM : \"))"
   ]
  },
  {
   "cell_type": "code",
   "execution_count": 7,
   "id": "05f04a59-ad9c-4bc6-9d25-ea74dfe7fa8a",
   "metadata": {},
   "outputs": [
    {
     "name": "stdout",
     "output_type": "stream",
     "text": [
      "sum : -1.0\n",
      "diff : 199.0\n",
      "product : -9900.0\n",
      "integer quotient : 1.0\n",
      "remainder : 1.0\n",
      "fractional quotient : 0.99\n"
     ]
    }
   ],
   "source": [
    "print(\"sum :\",user1+user2)\n",
    "print(\"diff :\",user1-user2)\n",
    "print(\"product :\",user1*user2)\n",
    "print(\"integer quotient :\",abs(user1//user2))\n",
    "print(\"remainder :\",abs(user1%user2))\n",
    "print(\"fractional quotient :\",abs(user1/user2))\n"
   ]
  },
  {
   "cell_type": "code",
   "execution_count": 9,
   "id": "2cddca1e-8281-4818-b322-1a4c3313ae96",
   "metadata": {},
   "outputs": [
    {
     "name": "stdin",
     "output_type": "stream",
     "text": [
      "side :  3\n",
      "side :  4\n",
      "side :  5\n"
     ]
    },
    {
     "name": "stdout",
     "output_type": "stream",
     "text": [
      "Area : 6.0\n",
      "Perimeter : 12.0\n"
     ]
    }
   ],
   "source": [
    "import math\n",
    "a = abs(int(input(\"side : \")))\n",
    "b = abs(int(input(\"side : \")))\n",
    "c = abs(int(input(\"side : \")))\n",
    "s=(a+b+c)/2\n",
    "area = s*(s-a)*(s-b)*(s-c)\n",
    "print(\"Area :\",math.sqrt(area))\n",
    "print(\"Perimeter :\",s*2)"
   ]
  },
  {
   "cell_type": "code",
   "execution_count": 10,
   "id": "0909ece1-65c2-4fad-8531-991580a85092",
   "metadata": {},
   "outputs": [
    {
     "name": "stdout",
     "output_type": "stream",
     "text": [
      "Angle A : 36.86989764584401\n"
     ]
    }
   ],
   "source": [
    "ca = b**2+c**2-a**2\n",
    "ca = ca/(2*b*c)\n",
    "angleA = math.acos(ca)\n",
    "print(\"Angle A :\",math.degrees(angleA))"
   ]
  },
  {
   "cell_type": "code",
   "execution_count": 12,
   "id": "88f94646-79cf-4532-8e44-20c48dfcddff",
   "metadata": {},
   "outputs": [
    {
     "name": "stdout",
     "output_type": "stream",
     "text": [
      "Angle B : 53.13010235415599\n"
     ]
    }
   ],
   "source": [
    "cb = a**2+c**2-b**2\n",
    "cb = cb/(2*a*c)\n",
    "angleB = math.acos(cb)\n",
    "print(\"Angle B :\",math.degrees(angleB))"
   ]
  },
  {
   "cell_type": "code",
   "execution_count": 13,
   "id": "403fb938-99d9-4fed-b8f7-67fd9f6f4a88",
   "metadata": {},
   "outputs": [
    {
     "name": "stdout",
     "output_type": "stream",
     "text": [
      "Angle C : 90.0\n"
     ]
    }
   ],
   "source": [
    "cc = b**2+a**2-c**2\n",
    "cc = cc/(2*b*a)\n",
    "angleC = math.acos(cc)\n",
    "print(\"Angle C :\",math.degrees(angleC))"
   ]
  },
  {
   "cell_type": "code",
   "execution_count": 2,
   "id": "8f83ac1f-d4e9-4922-a041-d281463e4cf2",
   "metadata": {},
   "outputs": [
    {
     "name": "stdin",
     "output_type": "stream",
     "text": [
      "enter celsius :  100\n"
     ]
    },
    {
     "name": "stdout",
     "output_type": "stream",
     "text": [
      "far temp : 212.0\n"
     ]
    }
   ],
   "source": [
    "cel = float(input(\"enter celsius : \"))\n",
    "print(\"far temp :\",cel*1.8+32)"
   ]
  },
  {
   "cell_type": "code",
   "execution_count": null,
   "id": "3a72ff8a-fc35-4b5b-be93-c606df689f3e",
   "metadata": {},
   "outputs": [],
   "source": []
  }
 ],
 "metadata": {
  "kernelspec": {
   "display_name": "Python 3 (ipykernel)",
   "language": "python",
   "name": "python3"
  },
  "language_info": {
   "codemirror_mode": {
    "name": "ipython",
    "version": 3
   },
   "file_extension": ".py",
   "mimetype": "text/x-python",
   "name": "python",
   "nbconvert_exporter": "python",
   "pygments_lexer": "ipython3",
   "version": "3.11.9"
  }
 },
 "nbformat": 4,
 "nbformat_minor": 5
}
